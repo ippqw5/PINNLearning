{
  "cells": [
    {
      "cell_type": "code",
      "source": [
        "import os\n",
        "os.environ['DDE_BACKEND']='pytorch'\n",
        "\n",
        "!pip install deepxde\n",
        "\n",
        "import deepxde as dde\n",
        "import numpy as np\n",
        "from deepxde.backend import torch"
      ],
      "metadata": {
        "id": "IaC842-cX3JU"
      },
      "execution_count": 1,
      "outputs": []
    },
    {
      "cell_type": "code",
      "source": [
        "# Diffusion equation u(x,t)\n",
        "def pde(x, y):\n",
        "    dy_t = dde.grad.jacobian(y, x, j=1)\n",
        "    dy_xx = dde.grad.hessian(y, x, j=0)\n",
        "    return (\n",
        "         dy_t\n",
        "         - dy_xx\n",
        "         + torch.exp(-x[:, 1:])\n",
        "         * (torch.sin(np.pi * x[:, 0:1]) - np.pi ** 2 * torch.sin(np.pi * x[:, 0:1]))\n",
        "     )\n",
        "\n",
        "def func(x):\n",
        "    return np.sin(np.pi * x[:, 0:1]) * np.exp(-x[:, 1:])\n",
        "\n",
        "geom = dde.geometry.Interval(-1, 1)\n",
        "timedomain = dde.geometry.TimeDomain(0, 1)\n",
        "geomtime = dde.geometry.GeometryXTime(geom, timedomain)\n",
        "\n",
        "bc = dde.icbc.DirichletBC(geomtime, func, lambda _, on_boundary: on_boundary)\n",
        "ic = dde.icbc.IC(geomtime, func, lambda _, on_initial: on_initial)\n",
        "data = dde.data.TimePDE(\n",
        "    geomtime,\n",
        "    pde,\n",
        "    [bc, ic],\n",
        "    num_domain=40,\n",
        "    num_boundary=20,\n",
        "    num_initial=10,\n",
        "    solution=func,\n",
        "    num_test=10000,\n",
        ")\n",
        "\n",
        "layer_size = [2] + [32] * 3 + [1]\n",
        "activation = \"tanh\"\n",
        "initializer = \"Glorot uniform\"\n",
        "net_default = dde.nn.FNN(layer_size, activation, initializer)"
      ],
      "metadata": {
        "colab": {
          "base_uri": "https://localhost:8080/"
        },
        "id": "ltiGIvK1qdgc",
        "outputId": "8aa31bc9-e194-468f-e08b-335b4f18ed29"
      },
      "execution_count": 2,
      "outputs": [
        {
          "output_type": "stream",
          "name": "stdout",
          "text": [
            "Warning: 10000 points required, but 10082 points sampled.\n"
          ]
        }
      ]
    },
    {
      "cell_type": "code",
      "source": [
        "# 纯PINN\n",
        "net_1 = dde.nn.FNN(layer_size, activation, initializer)\n",
        "net_1.load_state_dict(net_default.state_dict())\n",
        "model_1 = dde.Model(data, net_1)\n",
        "model_1.compile(\"adam\", lr=0.001, metrics=[\"l2 relative error\"])\n",
        "losshistory_1, train_state_1 = model_1.train(iterations=1000, display_every=100)\n"
      ],
      "metadata": {
        "colab": {
          "base_uri": "https://localhost:8080/"
        },
        "id": "CIknuawyqsde",
        "outputId": "7c3ad601-fa6d-42f0-a6a8-34bcf8b00793"
      },
      "execution_count": 12,
      "outputs": [
        {
          "output_type": "stream",
          "name": "stdout",
          "text": [
            "Compiling model...\n",
            "'compile' took 0.003449 s\n",
            "\n",
            "Training model...\n",
            "\n",
            "Step      Train loss                        Test loss                         Test metric   \n",
            "0         [1.58e+01, 1.26e-01, 6.69e-01]    [1.70e+01, 1.26e-01, 6.69e-01]    [1.36e+00]    \n",
            "100       [1.54e+00, 3.25e-02, 3.04e-02]    [1.08e+00, 3.25e-02, 3.04e-02]    [3.18e-01]    \n",
            "200       [1.25e-01, 3.61e-02, 4.41e-03]    [7.50e-02, 3.61e-02, 4.41e-03]    [2.18e-01]    \n",
            "300       [6.01e-02, 3.47e-02, 4.31e-03]    [3.58e-02, 3.47e-02, 4.31e-03]    [2.23e-01]    \n",
            "400       [3.17e-02, 2.60e-02, 3.75e-03]    [2.48e-02, 2.60e-02, 3.75e-03]    [1.96e-01]    \n",
            "500       [1.98e-02, 1.67e-02, 2.52e-03]    [1.95e-02, 1.67e-02, 2.52e-03]    [1.60e-01]    \n",
            "600       [1.15e-02, 1.02e-02, 1.72e-03]    [1.27e-02, 1.02e-02, 1.72e-03]    [1.27e-01]    \n",
            "700       [6.48e-03, 6.23e-03, 1.46e-03]    [8.57e-03, 6.23e-03, 1.46e-03]    [1.03e-01]    \n",
            "800       [4.76e-03, 4.37e-03, 1.24e-03]    [6.53e-03, 4.37e-03, 1.24e-03]    [8.79e-02]    \n",
            "900       [3.87e-03, 3.39e-03, 1.02e-03]    [4.97e-03, 3.39e-03, 1.02e-03]    [7.79e-02]    \n",
            "1000      [3.16e-03, 2.73e-03, 8.35e-04]    [3.82e-03, 2.73e-03, 8.35e-04]    [7.01e-02]    \n",
            "\n",
            "Best model at step 1000:\n",
            "  train loss: 6.73e-03\n",
            "  test loss: 7.39e-03\n",
            "  test metric: [7.01e-02]\n",
            "\n",
            "'train' took 2.693641 s\n",
            "\n"
          ]
        }
      ]
    },
    {
      "cell_type": "code",
      "source": [
        "# PINN + resample\n",
        "net_2 = dde.nn.FNN(layer_size, activation, initializer)\n",
        "net_2.load_state_dict(net_default.state_dict())\n",
        "model_2 = dde.Model(data, net_2)\n",
        "resampler = dde.callbacks.PDEPointResampler(period=500)\n",
        "model_2.compile(\"adam\", lr=0.001, metrics=[\"l2 relative error\"])\n",
        "losshistory_2, train_state_2 = model_2.train(iterations=1000, callbacks=[resampler], display_every=100)\n"
      ],
      "metadata": {
        "colab": {
          "base_uri": "https://localhost:8080/"
        },
        "id": "DEgEPBQvX6nj",
        "outputId": "e77993ae-18ea-49ea-a5d0-adf6f7615161"
      },
      "execution_count": 11,
      "outputs": [
        {
          "output_type": "stream",
          "name": "stdout",
          "text": [
            "Compiling model...\n",
            "'compile' took 0.000225 s\n",
            "\n",
            "Training model...\n",
            "\n",
            "Step      Train loss                        Test loss                         Test metric   \n",
            "0         [1.58e+01, 1.26e-01, 6.69e-01]    [1.70e+01, 1.26e-01, 6.69e-01]    [1.36e+00]    \n",
            "100       [1.60e+00, 2.78e-02, 3.73e-02]    [1.09e+00, 2.78e-02, 3.73e-02]    [3.11e-01]    \n",
            "200       [1.40e-01, 3.92e-02, 5.01e-03]    [7.92e-02, 3.92e-02, 5.01e-03]    [2.29e-01]    \n",
            "300       [5.81e-02, 3.66e-02, 5.75e-03]    [3.41e-02, 3.66e-02, 5.75e-03]    [2.29e-01]    \n",
            "400       [3.25e-02, 2.70e-02, 4.81e-03]    [2.41e-02, 2.70e-02, 4.81e-03]    [1.98e-01]    \n",
            "500       [2.30e-02, 1.77e-02, 3.16e-03]    [2.26e-02, 1.77e-02, 3.16e-03]    [1.62e-01]    \n",
            "600       [1.58e-02, 1.24e-02, 2.06e-03]    [1.70e-02, 1.24e-02, 2.06e-03]    [1.37e-01]    \n",
            "700       [9.35e-03, 7.55e-03, 1.28e-03]    [1.15e-02, 7.55e-03, 1.28e-03]    [1.09e-01]    \n",
            "800       [5.63e-03, 4.55e-03, 9.64e-04]    [7.56e-03, 4.55e-03, 9.64e-04]    [8.75e-02]    \n",
            "900       [3.57e-03, 3.12e-03, 8.28e-04]    [5.00e-03, 3.12e-03, 8.28e-04]    [7.37e-02]    \n",
            "1000      [2.38e-03, 2.37e-03, 6.98e-04]    [3.52e-03, 2.37e-03, 6.98e-04]    [6.43e-02]    \n",
            "\n",
            "Best model at step 1000:\n",
            "  train loss: 5.44e-03\n",
            "  test loss: 6.58e-03\n",
            "  test metric: [6.43e-02]\n",
            "\n",
            "'train' took 2.624496 s\n",
            "\n"
          ]
        }
      ]
    },
    {
      "cell_type": "code",
      "source": [
        "# PINN + hard_bc\n",
        "net_3 = dde.nn.FNN(layer_size, activation, initializer)\n",
        "net_3.load_state_dict(net_default.state_dict())\n",
        "net_3.apply_output_transform(\n",
        "    # Backend pytorch\n",
        "    lambda x, y: x[:, 1:2] * (1 - x[:, 0:1] ** 2) * y + torch.sin(np.pi * x[:, 0:1])\n",
        ")\n",
        "model_3 = dde.Model(data, net_3)\n",
        "model_3.compile(\"adam\", lr=0.001, metrics=[\"l2 relative error\"])\n",
        "losshistory_3, train_state_3 = model_3.train(iterations=1000, display_every=100)\n"
      ],
      "metadata": {
        "colab": {
          "base_uri": "https://localhost:8080/"
        },
        "id": "v2T_8gYir3qJ",
        "outputId": "9f33d16f-149b-4124-9f9d-d39af4f092b3"
      },
      "execution_count": 18,
      "outputs": [
        {
          "output_type": "stream",
          "name": "stdout",
          "text": [
            "Compiling model...\n",
            "'compile' took 0.000172 s\n",
            "\n",
            "Training model...\n",
            "\n",
            "Step      Train loss                        Test loss                         Test metric   \n",
            "0         [5.07e+00, 1.16e-15, 3.55e-16]    [8.84e+00, 1.16e-15, 3.55e-16]    [6.53e-01]    \n",
            "100       [3.15e-01, 1.16e-15, 3.55e-16]    [4.09e-01, 1.16e-15, 3.55e-16]    [9.71e-02]    \n",
            "200       [1.04e-01, 1.16e-15, 3.55e-16]    [1.39e-01, 1.16e-15, 3.55e-16]    [4.63e-02]    \n",
            "300       [4.34e-02, 1.16e-15, 3.55e-16]    [5.96e-02, 1.16e-15, 3.55e-16]    [2.56e-02]    \n",
            "400       [1.38e-02, 1.16e-15, 3.55e-16]    [1.97e-02, 1.16e-15, 3.55e-16]    [1.26e-02]    \n",
            "500       [4.33e-03, 1.16e-15, 3.55e-16]    [6.92e-03, 1.16e-15, 3.55e-16]    [9.07e-03]    \n",
            "600       [2.42e-03, 1.16e-15, 3.55e-16]    [4.20e-03, 1.16e-15, 3.55e-16]    [8.27e-03]    \n",
            "700       [1.81e-03, 1.16e-15, 3.55e-16]    [3.24e-03, 1.16e-15, 3.55e-16]    [7.23e-03]    \n",
            "800       [1.45e-03, 1.16e-15, 3.55e-16]    [2.60e-03, 1.16e-15, 3.55e-16]    [6.10e-03]    \n",
            "900       [1.19e-03, 1.16e-15, 3.55e-16]    [2.10e-03, 1.16e-15, 3.55e-16]    [5.03e-03]    \n",
            "1000      [9.87e-04, 1.16e-15, 3.55e-16]    [1.71e-03, 1.16e-15, 3.55e-16]    [4.11e-03]    \n",
            "\n",
            "Best model at step 1000:\n",
            "  train loss: 9.87e-04\n",
            "  test loss: 1.71e-03\n",
            "  test metric: [4.11e-03]\n",
            "\n",
            "'train' took 3.587575 s\n",
            "\n"
          ]
        }
      ]
    },
    {
      "cell_type": "code",
      "source": [
        "# PINN + resample + hard_bc\n",
        "net_4 = dde.nn.FNN(layer_size, activation, initializer)\n",
        "net_4.load_state_dict(net_default.state_dict())\n",
        "net_4.apply_output_transform(\n",
        "    # Backend pytorch\n",
        "    lambda x, y: x[:, 1:2] * (1 - x[:, 0:1] ** 2) * y + torch.sin(np.pi * x[:, 0:1])\n",
        ")\n",
        "model_4 = dde.Model(data, net_4)\n",
        "model_4.compile(\"adam\", lr=0.001, metrics=[\"l2 relative error\"])\n",
        "\n",
        "resampler = dde.callbacks.PDEPointResampler(period=500)\n",
        "losshistory_4, train_state_4 = model_4.train(iterations=1000, callbacks=[resampler], display_every=100)\n"
      ],
      "metadata": {
        "colab": {
          "base_uri": "https://localhost:8080/"
        },
        "id": "6PZmx4QOr7W3",
        "outputId": "4b97d0f7-6429-4ba1-cbac-239c14958081"
      },
      "execution_count": 23,
      "outputs": [
        {
          "output_type": "stream",
          "name": "stdout",
          "text": [
            "Compiling model...\n",
            "'compile' took 0.000205 s\n",
            "\n",
            "Training model...\n",
            "\n",
            "Step      Train loss                        Test loss                         Test metric   \n",
            "0         [5.00e+00, 1.16e-15, 3.55e-16]    [8.84e+00, 1.16e-15, 3.55e-16]    [6.53e-01]    \n",
            "100       [3.05e-01, 1.16e-15, 3.55e-16]    [3.78e-01, 1.16e-15, 3.55e-16]    [9.23e-02]    \n",
            "200       [8.81e-02, 1.16e-15, 3.55e-16]    [1.12e-01, 1.16e-15, 3.55e-16]    [3.94e-02]    \n",
            "300       [3.50e-02, 1.16e-15, 3.55e-16]    [4.60e-02, 1.16e-15, 3.55e-16]    [2.53e-02]    \n",
            "400       [9.33e-03, 1.16e-15, 3.55e-16]    [1.27e-02, 1.16e-15, 3.55e-16]    [1.19e-02]    \n",
            "500       [2.91e-03, 1.16e-15, 3.55e-16]    [4.98e-03, 1.16e-15, 3.55e-16]    [6.91e-03]    \n",
            "600       [1.99e-03, 1.16e-15, 3.55e-16]    [3.76e-03, 1.16e-15, 3.55e-16]    [5.44e-03]    \n",
            "700       [1.63e-03, 1.16e-15, 3.55e-16]    [3.04e-03, 1.16e-15, 3.55e-16]    [4.38e-03]    \n",
            "800       [1.36e-03, 1.16e-15, 3.55e-16]    [2.48e-03, 1.16e-15, 3.55e-16]    [3.60e-03]    \n",
            "900       [1.15e-03, 1.16e-15, 3.55e-16]    [2.05e-03, 1.16e-15, 3.55e-16]    [3.07e-03]    \n",
            "1000      [9.85e-04, 1.16e-15, 3.55e-16]    [1.71e-03, 1.16e-15, 3.55e-16]    [2.72e-03]    \n",
            "\n",
            "Best model at step 1000:\n",
            "  train loss: 9.85e-04\n",
            "  test loss: 1.71e-03\n",
            "  test metric: [2.72e-03]\n",
            "\n",
            "'train' took 3.588368 s\n",
            "\n"
          ]
        }
      ]
    },
    {
      "cell_type": "code",
      "source": [
        "import matplotlib.pyplot as plt"
      ],
      "metadata": {
        "id": "nZ0-6faTt1RS"
      },
      "execution_count": 8,
      "outputs": []
    },
    {
      "cell_type": "code",
      "source": [
        "loss_history_list = [losshistory_1, losshistory_2, losshistory_3, losshistory_4]\n",
        "labels = [\"PINN\", \"PINN-resampling\",\"PINN-hard_bc\",\"PINN-resampling+hard_bc\"]\n",
        "plt.figure()\n",
        "for idx, loss_history in enumerate(loss_history_list):\n",
        "  for i in range(len(loss_history.metrics_test[0])):\n",
        "    plt.semilogy(\n",
        "        loss_history.steps,\n",
        "        np.array(loss_history.metrics_test)[:, i],\n",
        "        label=labels[idx],\n",
        "    )\n",
        "plt.ylabel(\"Error\")\n",
        "plt.xlabel(\"Iterations\")\n",
        "plt.legend()\n",
        "plt.show()"
      ],
      "metadata": {
        "colab": {
          "base_uri": "https://localhost:8080/",
          "height": 449
        },
        "id": "fHGbAU5ntyyS",
        "outputId": "6a64cd66-a1d6-418c-aea0-950895f1ac33"
      },
      "execution_count": 24,
      "outputs": [
        {
          "output_type": "display_data",
          "data": {
            "text/plain": [
              "<Figure size 640x480 with 1 Axes>"
            ],
            "image/png": "[encoded data removed]"
          },
          "metadata": {}
        }
      ]
    }
  ],
  "metadata": {
    "colab": {
      "name": "欢迎使用 Colaboratory",
      "provenance": []
    },
    "kernelspec": {
      "display_name": "Python 3",
      "name": "python3"
    }
  },
  "nbformat": 4,
  "nbformat_minor": 0
}