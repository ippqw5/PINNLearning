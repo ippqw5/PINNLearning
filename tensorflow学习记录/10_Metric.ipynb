{
 "cells": [
  {
   "cell_type": "markdown",
   "id": "97d7eda3",
   "metadata": {},
   "source": [
    "# 5-6,评估指标metrics\n",
    "\n",
    "损失函数除了作为模型训练时候的优化目标，也能够作为模型好坏的一种评价指标。但通常人们还会从其它角度评估模型的好坏。\n",
    "\n",
    "这就是评估指标。通常损失函数都可以作为评估指标，如MAE,MSE,CategoricalCrossentropy等也是常用的评估指标。\n",
    "\n",
    "但评估指标不一定可以作为损失函数，例如AUC,Accuracy,Precision。因为评估指标不要求连续可导，而损失函数通常要求连续可导。\n",
    "\n",
    "编译模型时，可以通过列表形式指定多个评估指标。\n",
    "\n",
    "如果有需要，也可以自定义评估指标。\n",
    "\n",
    "自定义评估指标需要接收两个张量y_true,y_pred作为输入参数，并输出一个标量作为评估值。\n",
    "\n",
    "也可以对tf.keras.metrics.Metric进行子类化，重写初始化方法, update_state方法, result方法实现评估指标的计算逻辑，从而得到评估指标的类的实现形式。\n",
    "\n",
    "由于训练的过程通常是分批次训练的，而评估指标要跑完一个epoch才能够得到整体的指标结果。因此，类形式的评估指标更为常见。即需要编写初始化方法以创建与计算指标结果相关的一些中间变量，编写update_state方法在每个batch后更新相关中间变量的状态，编写result方法输出最终指标结果。\n",
    "\n",
    "如果编写函数形式的评估指标，则只能取epoch中各个batch计算的评估指标结果的平均值作为整个epoch上的评估指标结果，这个结果通常会偏离整个epoch数据一次计算的结果。\n"
   ]
  },
  {
   "cell_type": "markdown",
   "id": "29494417",
   "metadata": {},
   "source": [
    "## 常用内置Metrics\n",
    "* MeanSquaredError（均方误差，用于回归，可以简写为MSE，函数形式为mse）\n",
    "\n",
    "* MeanAbsoluteError (平均绝对值误差，用于回归，可以简写为MAE，函数形式为mae)\n",
    "\n",
    "* MeanAbsolutePercentageError (平均百分比误差，用于回归，可以简写为MAPE，函数形式为mape)\n",
    "\n",
    "* RootMeanSquaredError (均方根误差，用于回归)\n",
    "\n",
    "* Accuracy (准确率，用于分类，可以用字符串\"Accuracy\"表示，Accuracy=(TP+TN)/(TP+TN+FP+FN)，要求y_true和y_pred都为类别序号编码)\n",
    "\n",
    "* Precision (精确率，用于二分类，Precision = TP/(TP+FP))\n",
    "\n",
    "* Recall (召回率，用于二分类，Recall = TP/(TP+FN))\n",
    "\n",
    "* TruePositives (真正例，用于二分类)\n",
    "\n",
    "* TrueNegatives (真负例，用于二分类)\n",
    "\n",
    "* FalsePositives (假正例，用于二分类)\n",
    "\n",
    "* FalseNegatives (假负例，用于二分类)\n",
    "\n",
    "* AUC(ROC曲线(TPR vs FPR)下的面积，用于二分类，直观解释为随机抽取一个正样本和一个负样本，正样本的预测值大于负样本的概率)\n",
    "\n",
    "* CategoricalAccuracy（分类准确率，与Accuracy含义相同，要求y_true(label)为onehot编码形式）\n",
    "\n",
    "* SparseCategoricalAccuracy (稀疏分类准确率，与Accuracy含义相同，要求y_true(label)为序号编码形式)\n",
    "\n",
    "* MeanIoU (Intersection-Over-Union，常用于图像分割)\n",
    "\n",
    "* TopKCategoricalAccuracy (多分类TopK准确率，要求y_true(label)为onehot编码形式)\n",
    "\n",
    "* SparseTopKCategoricalAccuracy (稀疏多分类TopK准确率，要求y_true(label)为序号编码形式)\n",
    "\n",
    "* Mean (平均值)\n",
    "\n",
    "* Sum (求和)"
   ]
  },
  {
   "cell_type": "code",
   "execution_count": 1,
   "id": "1d574377",
   "metadata": {},
   "outputs": [],
   "source": [
    "import tensorflow as tf\n",
    "from tensorflow import keras"
   ]
  },
  {
   "cell_type": "code",
   "execution_count": 2,
   "id": "a8dedd1c",
   "metadata": {},
   "outputs": [
    {
     "data": {
      "text/plain": [
       "0.25"
      ]
     },
     "execution_count": 2,
     "metadata": {},
     "output_type": "execute_result"
    }
   ],
   "source": [
    "m = keras.metrics.MeanSquaredError()\n",
    "m.update_state([[0, 1], [0, 0]], [[1, 1], [0, 0]])\n",
    "m.result().numpy()\n"
   ]
  },
  {
   "cell_type": "code",
   "execution_count": 3,
   "id": "1b72d9ef",
   "metadata": {},
   "outputs": [
    {
     "data": {
      "text/plain": [
       "1.5"
      ]
     },
     "execution_count": 3,
     "metadata": {},
     "output_type": "execute_result"
    }
   ],
   "source": [
    "m.reset_state()\n",
    "m.update_state([[0, 0], [0, 0]], [[1, 2], [0, 1]],)\n",
    "m.result().numpy()"
   ]
  },
  {
   "cell_type": "markdown",
   "id": "3d8418f0",
   "metadata": {},
   "source": [
    "## 自定义Metric (子类化)"
   ]
  },
  {
   "cell_type": "code",
   "execution_count": 4,
   "id": "494e3d89",
   "metadata": {},
   "outputs": [],
   "source": [
    "class MyMeanSquaredError(keras.metrics.Metric):\n",
    "  def __init__(self, name='mean_square_error', **kwargs):\n",
    "    super(MyMeanSquaredError, self).__init__(name=name, **kwargs)\n",
    "    self.total = self.add_weight(name='tp', initializer='zeros')\n",
    "    self.count = self.add_weight(name='tp', initializer='zeros')\n",
    "\n",
    "  def update_state(self,y_true,y_pred):\n",
    "    y_true = tf.cast(y_true,tf.float32)\n",
    "    y_pred = tf.cast(y_pred,tf.float32)\n",
    "    count = y_true.shape[0]\n",
    "    dim = y_true.shape[1]\n",
    "    total =tf.reduce_sum(tf.square(y_true - y_pred))/ dim\n",
    "\n",
    "    self.total.assign_add(total)\n",
    "    self.count.assign_add(count)\n",
    "  \n",
    "  def result(self):\n",
    "    return self.total / self.count"
   ]
  },
  {
   "cell_type": "code",
   "execution_count": 9,
   "id": "56ed69e5",
   "metadata": {},
   "outputs": [
    {
     "data": {
      "text/plain": [
       "0.25"
      ]
     },
     "execution_count": 9,
     "metadata": {},
     "output_type": "execute_result"
    }
   ],
   "source": [
    "m1 = MyMeanSquaredError()\n",
    "m1.update_state([[0, 1], [0, 0]], [[1, 1], [0, 0]])\n",
    "m1.result().numpy()"
   ]
  },
  {
   "cell_type": "code",
   "execution_count": 10,
   "id": "0f2e6f22",
   "metadata": {},
   "outputs": [
    {
     "data": {
      "text/plain": [
       "1.5"
      ]
     },
     "execution_count": 10,
     "metadata": {},
     "output_type": "execute_result"
    }
   ],
   "source": [
    "m1.reset_state()\n",
    "m1.update_state([[0, 0], [0, 0]], [[1, 2], [0, 1]],)\n",
    "m1.result().numpy()"
   ]
  }
 ],
 "metadata": {
  "kernelspec": {
   "display_name": "Python 3",
   "language": "python",
   "name": "python3"
  },
  "language_info": {
   "codemirror_mode": {
    "name": "ipython",
    "version": 3
   },
   "file_extension": ".py",
   "mimetype": "text/x-python",
   "name": "python",
   "nbconvert_exporter": "python",
   "pygments_lexer": "ipython3",
   "version": "3.8.8"
  }
 },
 "nbformat": 4,
 "nbformat_minor": 5
}
