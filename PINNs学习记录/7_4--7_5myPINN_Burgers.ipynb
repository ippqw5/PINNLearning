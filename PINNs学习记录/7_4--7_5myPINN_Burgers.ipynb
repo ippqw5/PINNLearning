{
 "cells": [
  {
   "cell_type": "markdown",
   "id": "de5806Iyrygs",
   "metadata": {
    "id": "de5806Iyrygs"
   },
   "source": [
    "# 7-4 记录"
   ]
  },
  {
   "cell_type": "markdown",
   "id": "ujmvUqlrtrtK",
   "metadata": {
    "id": "ujmvUqlrtrtK"
   },
   "source": [
    "## Import"
   ]
  },
  {
   "cell_type": "code",
   "execution_count": 1,
   "id": "n1V67_1kWJK-",
   "metadata": {
    "colab": {
     "base_uri": "https://localhost:8080/"
    },
    "id": "n1V67_1kWJK-",
    "outputId": "f8fceff0-ea02-49cc-d331-678a24f8eb06"
   },
   "outputs": [
    {
     "name": "stdout",
     "output_type": "stream",
     "text": [
      "Looking in indexes: https://pypi.org/simple, https://us-python.pkg.dev/colab-wheels/public/simple/\n",
      "Requirement already satisfied: pyDOE in /usr/local/lib/python3.7/dist-packages (0.3.8)\n",
      "Requirement already satisfied: numpy in /usr/local/lib/python3.7/dist-packages (from pyDOE) (1.21.6)\n",
      "Requirement already satisfied: scipy in /usr/local/lib/python3.7/dist-packages (from pyDOE) (1.4.1)\n"
     ]
    }
   ],
   "source": [
    "#pip install pyDOE"
   ]
  },
  {
   "cell_type": "code",
   "execution_count": 1,
   "id": "PRleQlMxsPkv",
   "metadata": {
    "colab": {
     "base_uri": "https://localhost:8080/"
    },
    "id": "PRleQlMxsPkv",
    "outputId": "854e37e1-e043-4566-ebcf-a0cb6db7477f"
   },
   "outputs": [
    {
     "name": "stdout",
     "output_type": "stream",
     "text": [
      "TensorFlow version: 2.9.1\n"
     ]
    }
   ],
   "source": [
    "import tensorflow as tf\n",
    "from tensorflow import keras\n",
    "from tensorflow.keras import layers\n",
    "import tensorflow_probability as tfp\n",
    "import datetime, os\n",
    "#hide tf logs \n",
    "os.environ['TF_CPP_MIN_LOG_LEVEL'] = '2'  # or any {'0', '1', '2'} \n",
    "#0 (default) shows all, 1 to filter out INFO logs, 2 to additionally filter out WARNING logs, and 3 to additionally filter out ERROR logs\n",
    "import scipy.io\n",
    "import numpy as np\n",
    "import matplotlib.pyplot as plt\n",
    "import matplotlib.gridspec as gridspec\n",
    "from mpl_toolkits.axes_grid1 import make_axes_locatable\n",
    "from mpl_toolkits.mplot3d import Axes3D\n",
    "import time\n",
    "from pyDOE import lhs         #Latin Hypercube Sampling\n",
    "import seaborn as sns \n",
    "import codecs, json\n",
    "\n",
    "# generates same random numbers each time\n",
    "np.random.seed(1234)\n",
    "tf.random.set_seed(1234)\n",
    "\n",
    "print(\"TensorFlow version: {}\".format(tf.__version__))"
   ]
  },
  {
   "cell_type": "markdown",
   "id": "RIr2UC39r_eJ",
   "metadata": {
    "id": "RIr2UC39r_eJ"
   },
   "source": [
    "## Data Prep"
   ]
  },
  {
   "cell_type": "code",
   "execution_count": 2,
   "id": "yleHhp5pr8Hx",
   "metadata": {
    "id": "yleHhp5pr8Hx"
   },
   "outputs": [],
   "source": [
    "data = scipy.io.loadmat('Data/burgers_shock_mu_01_pi.mat')  \t# Load data from file\n",
    "x = data['x']                                   # 256 points between -1 and 1 [256x1]\n",
    "t = data['t']                                   # 100 time points between 0 and 1 [100x1] \n",
    "usol = data['usol']                             # solution of 256x100 grid points\n",
    "\n",
    "X, T = np.meshgrid(x,t)                         # makes 2 arrays X and T such that u(X[i],T[j])=usol[i][j] are a tuple"
   ]
  },
  {
   "cell_type": "markdown",
   "id": "GWE5LTvgsz_c",
   "metadata": {
    "id": "GWE5LTvgsz_c"
   },
   "source": [
    "## *Test Data*\n",
    "\n",
    "We prepare the test data to compare against the solution produced by the PINN."
   ]
  },
  {
   "cell_type": "code",
   "execution_count": 3,
   "id": "imd-bmrbsuFA",
   "metadata": {
    "id": "imd-bmrbsuFA"
   },
   "outputs": [],
   "source": [
    "''' X_u_test = [X[i],T[i]] [25600,2] for interpolation'''\n",
    "X_u_test = np.hstack((X.flatten()[:,None], T.flatten()[:,None]))\n",
    "\n",
    "# Domain bounds\n",
    "lb = X_u_test[0]  # [-1. 0.]\n",
    "ub = X_u_test[-1] # [1.  0.99]\n",
    "\n",
    "'''\n",
    "   Fortran Style ('F') flatten,stacked column wise!\n",
    "   u = [c1 \n",
    "        c2\n",
    "        .\n",
    "        .\n",
    "        cn]\n",
    "\n",
    "   u =  [25600x1] \n",
    "'''\n",
    "u = usol.flatten('F')[:,None] \n"
   ]
  },
  {
   "cell_type": "markdown",
   "id": "flY0BZGes9He",
   "metadata": {
    "id": "flY0BZGes9He"
   },
   "source": [
    "## *Training Data*\n",
    "\n",
    "The boundary conditions serve as the test data for the PINN and the collocation points are generated using **Latin Hypercube Sampling**"
   ]
  },
  {
   "cell_type": "code",
   "execution_count": 4,
   "id": "hPe9lqzAtBHf",
   "metadata": {
    "id": "hPe9lqzAtBHf"
   },
   "outputs": [],
   "source": [
    "def trainingdata(N_u,N_f):\n",
    "\n",
    "    '''Boundary Conditions'''\n",
    "\n",
    "    #Initial Condition -1 =< x =<1 and t = 0  \n",
    "    leftedge_x = np.hstack((X[0,:][:,None], T[0,:][:,None])) #L1\n",
    "    leftedge_u = usol[:,0][:,None]\n",
    "\n",
    "    #Boundary Condition x = -1 and 0 =< t =<1\n",
    "    bottomedge_x = np.hstack((X[:,0][:,None], T[:,0][:,None])) #L2\n",
    "    bottomedge_u = usol[-1,:][:,None]\n",
    "\n",
    "    #Boundary Condition x = 1 and 0 =< t =<1\n",
    "    topedge_x = np.hstack((X[:,-1][:,None], T[:,0][:,None])) #L3\n",
    "    topedge_u = usol[0,:][:,None]\n",
    "\n",
    "    all_X_u_train = np.vstack([leftedge_x, bottomedge_x, topedge_x]) # X_u_train [456,2] (456 = 256(L1)+100(L2)+100(L3))\n",
    "    all_u_train = np.vstack([leftedge_u, bottomedge_u, topedge_u])   #corresponding u [456x1]\n",
    "\n",
    "    #choose random N_u points for training\n",
    "    idx = np.random.choice(all_X_u_train.shape[0], N_u, replace=False) \n",
    "\n",
    "    X_u_train = all_X_u_train[idx, :] #choose indices from  set 'idx' (x,t)\n",
    "    u_train = all_u_train[idx,:]      #choose corresponding u\n",
    "\n",
    "    '''Collocation Points'''\n",
    "\n",
    "    # Latin Hypercube sampling for collocation points \n",
    "    # N_f sets of tuples(x,t)\n",
    "    X_f_train = lb + (ub-lb)*lhs(2,N_f) \n",
    "    X_f_train = np.vstack((X_f_train, X_u_train)) # append training points to collocation points \n",
    "\n",
    "    return X_f_train, X_u_train, u_train \n"
   ]
  },
  {
   "cell_type": "markdown",
   "id": "k52AslOQ0sw7",
   "metadata": {
    "id": "k52AslOQ0sw7"
   },
   "source": [
    "## Plot"
   ]
  },
  {
   "cell_type": "code",
   "execution_count": 5,
   "id": "fc9FwQc60w2_",
   "metadata": {
    "id": "fc9FwQc60w2_"
   },
   "outputs": [],
   "source": [
    "def solutionplot(u_pred,X_u_train,u_train):\n",
    "    \n",
    "    fig, ax = plt.subplots()\n",
    "    ax.axis('off')\n",
    "\n",
    "    gs0 = gridspec.GridSpec(1, 2)\n",
    "    gs0.update(top=1-0.06, bottom=1-1/3, left=0.15, right=0.85, wspace=0)\n",
    "    ax = plt.subplot(gs0[:, :])\n",
    "\n",
    "    h = ax.imshow(u_pred, interpolation='nearest', cmap='rainbow', \n",
    "                extent=[T.min(), T.max(), X.min(), X.max()], \n",
    "                origin='lower', aspect='auto')\n",
    "    divider = make_axes_locatable(ax)\n",
    "    cax = divider.append_axes(\"right\", size=\"5%\", pad=0.05)\n",
    "    fig.colorbar(h, cax=cax)\n",
    "    \n",
    "    ax.plot(X_u_train[:,1], X_u_train[:,0], 'kx', label = 'Data (%d points)' % (u_train.shape[0]), markersize = 4, clip_on = False)\n",
    "\n",
    "    line = np.linspace(x.min(), x.max(), 2)[:,None]\n",
    "    ax.plot(t[25]*np.ones((2,1)), line, 'w-', linewidth = 1)\n",
    "    ax.plot(t[50]*np.ones((2,1)), line, 'w-', linewidth = 1)\n",
    "    ax.plot(t[75]*np.ones((2,1)), line, 'w-', linewidth = 1)    \n",
    "\n",
    "    ax.set_xlabel('$t$')\n",
    "    ax.set_ylabel('$x$')\n",
    "    ax.legend(frameon=False, loc = 'best')\n",
    "    ax.set_title('$u(x,t)$', fontsize = 10)\n",
    "    \n",
    "    ''' \n",
    "    Slices of the solution at points t = 0.25, t = 0.50 and t = 0.75\n",
    "    '''\n",
    "    \n",
    "    ####### Row 1: u(t,x) slices ##################\n",
    "    gs1 = gridspec.GridSpec(1, 3)\n",
    "    gs1.update(top=1-1/3, bottom=0, left=0.1, right=0.9, wspace=0.5)\n",
    "\n",
    "    ax = plt.subplot(gs1[0, 0])\n",
    "    ax.plot(x,usol.T[25,:], 'b-', linewidth = 2, label = 'Exact')       \n",
    "    ax.plot(x,u_pred.T[25,:], 'r--', linewidth = 2, label = 'Prediction')\n",
    "    ax.set_xlabel('$x$')\n",
    "    ax.set_ylabel('$u(x,t)$')    \n",
    "    ax.set_title('$t = 0.25s$', fontsize = 10)\n",
    "    ax.axis('square')\n",
    "    ax.set_xlim([-1.1,1.1])\n",
    "    ax.set_ylim([-1.1,1.1])\n",
    "\n",
    "    ax = plt.subplot(gs1[0, 1])\n",
    "    ax.plot(x,usol.T[50,:], 'b-', linewidth = 2, label = 'Exact')       \n",
    "    ax.plot(x,u_pred.T[50,:], 'r--', linewidth = 2, label = 'Prediction')\n",
    "    ax.set_xlabel('$x$')\n",
    "    ax.set_ylabel('$u(x,t)$')\n",
    "    ax.axis('square')\n",
    "    ax.set_xlim([-1.1,1.1])\n",
    "    ax.set_ylim([-1.1,1.1])\n",
    "    ax.set_title('$t = 0.50s$', fontsize = 10)\n",
    "    ax.legend(loc='upper center', bbox_to_anchor=(0.5, -0.35), ncol=5, frameon=False)\n",
    "\n",
    "    ax = plt.subplot(gs1[0, 2])\n",
    "    ax.plot(x,usol.T[75,:], 'b-', linewidth = 2, label = 'Exact')       \n",
    "    ax.plot(x,u_pred.T[75,:], 'r--', linewidth = 2, label = 'Prediction')\n",
    "    ax.set_xlabel('$x$')\n",
    "    ax.set_ylabel('$u(x,t)$')\n",
    "    ax.axis('square')\n",
    "    ax.set_xlim([-1.1,1.1])\n",
    "    ax.set_ylim([-1.1,1.1])    \n",
    "    ax.set_title('$t = 0.75s$', fontsize = 10)\n",
    "    \n",
    "    #plt.savefig('./Results/Burgers.png',dpi = 500)   "
   ]
  },
  {
   "cell_type": "markdown",
   "id": "tm6iCb7CtHzW",
   "metadata": {
    "id": "tm6iCb7CtHzW"
   },
   "source": [
    "## MyPinn"
   ]
  },
  {
   "cell_type": "markdown",
   "id": "1dXBgAa-Y6pi",
   "metadata": {
    "id": "1dXBgAa-Y6pi"
   },
   "source": [
    "### Model Define"
   ]
  },
  {
   "cell_type": "code",
   "execution_count": 6,
   "id": "KPYQTH6MtJ6D",
   "metadata": {
    "id": "KPYQTH6MtJ6D"
   },
   "outputs": [],
   "source": [
    "def createModel(layer,Model):\n",
    "    if len(layer) < 2:\n",
    "        print(\"层数小于2！, 无法构建神经网络\")\n",
    "        return \n",
    "    model = Model(name = \"PINN\")\n",
    "    model.add(keras.Input(shape=(layer[0],),dtype=tf.float64))\n",
    "    for i in range(1,len(layer)-1):\n",
    "        model.add(layers.Dense(layer[i],dtype=tf.float64, activation='tanh'))\n",
    "    model.add(layers.Dense(layer[-1], dtype=tf.float64, name=\"outputs\"))    \n",
    "    return model"
   ]
  },
  {
   "cell_type": "code",
   "execution_count": 7,
   "id": "9BUcvFcIuAsv",
   "metadata": {
    "id": "9BUcvFcIuAsv"
   },
   "outputs": [],
   "source": [
    "class MyPinn(keras.Sequential): ## 正在编写\n",
    "    def __init__(self,name = None):\n",
    "        \n",
    "      super(MyPinn, self).__init__(name=name)\n",
    "      self.nu = tf.constant(0.01/np.pi,dtype=tf.float64)\n",
    "    \n",
    "    @tf.function\n",
    "    def loss_U(self,X_u_train,u_train):\n",
    "      u_pred = self(X_u_train)\n",
    "      loss_u = tf.reduce_mean(tf.square(u_train - u_pred))\n",
    "      return loss_u\n",
    "    \n",
    "    \n",
    "    @tf.function\n",
    "    def loss_PDE(self,X_f_train):\n",
    "      \n",
    "      x = X_f_train[:,0:1]\n",
    "      t = X_f_train[:,1:2]\n",
    "      with tf.GradientTape(persistent=True) as tape:\n",
    "          tape.watch([x,t])\n",
    "          X = tf.stack([x[:,0],t[:,0]],axis=1)\n",
    "          u = self(X)  \n",
    "          u_x = tape.gradient(u,x)         \n",
    "      #tf.print(u_x)    \n",
    "      u_t = tape.gradient(u, t)     \n",
    "      u_xx = tape.gradient(u_x, x)\n",
    "      \n",
    "      del tape\n",
    "      \n",
    "      f = u_t + (self(X))*(u_x) - (self.nu)*u_xx\n",
    "\n",
    "      loss_f = tf.reduce_mean(tf.square(f))\n",
    "\n",
    "      return loss_f\n",
    "    \n",
    "    @tf.function\n",
    "    def loss_Total(self,X_u_train,u_train,X_f_train):\n",
    "      loss_u = self.loss_U(X_u_train,u_train)\n",
    "      loss_f = self.loss_PDE(X_f_train)\n",
    "      \n",
    "      loss_total = loss_u + loss_f\n",
    "      \n",
    "      return loss_total\n",
    "    \n",
    "    @tf.function\n",
    "    def train_step(self,X_u_train,u_train,X_f_train):\n",
    "      with tf.GradientTape(persistent=True) as tape:\n",
    "          loss_total = self.loss_Total(X_u_train,u_train,X_f_train)\n",
    "                  \n",
    "      trainable_vars = self.trainable_variables\n",
    "      gradients = tape.gradient(loss_total, trainable_vars)\n",
    "      #tf.print(gradients)\n",
    "      del tape\n",
    "      \n",
    "      self.optimizer.apply_gradients(zip(gradients, trainable_vars))\n",
    "      return loss_total\n",
    "    \n",
    "    @tf.function\n",
    "    def train_model(self, X_u_train,u_train,X_f_train, epochs=100):\n",
    "      for epoch in tf.range(1,epochs+1):\n",
    "          loss_total = self.train_step(X_u_train,u_train,X_f_train)\n",
    "          if epoch % 50 == 0:                \n",
    "              tf.print(\n",
    "                  \"Training loss (for per 10 epoches) at epoch \",epoch,\":\",loss_total\n",
    "              )"
   ]
  },
  {
   "cell_type": "markdown",
   "id": "4MPLDurcYsBn",
   "metadata": {
    "id": "4MPLDurcYsBn"
   },
   "source": [
    "### function_factory"
   ]
  },
  {
   "cell_type": "code",
   "execution_count": 8,
   "id": "Efis1vL5yH53",
   "metadata": {
    "id": "Efis1vL5yH53"
   },
   "outputs": [],
   "source": [
    "def function_factory(model, loss, X_u_train,u_train,X_f_train):\n",
    "    \"\"\"A factory to create a function required by tfp.optimizer.lbfgs_minimize.\n",
    "    Args:\n",
    "        model [in]: an instance of `tf.keras.Model` or its subclasses.\n",
    "        loss [in]: a loss function in model\n",
    "    Returns:\n",
    "        A function that has a signature of:\n",
    "            loss_value, gradients = f(model_parameters).\n",
    "    \"\"\"\n",
    "\n",
    "    # obtain the shapes of all trainable parameters in the model\n",
    "    shapes = tf.shape_n(model.trainable_variables)\n",
    "    n_tensors = len(shapes)\n",
    "\n",
    "    # we'll use tf.dynamic_stitch and tf.dynamic_partition later, so we need to\n",
    "    # prepare required information first\n",
    "    count = 0\n",
    "    idx = [] # stitch indices\n",
    "    part = [] # partition indices\n",
    "\n",
    "    for i, shape in enumerate(shapes):\n",
    "        n = np.product(shape)\n",
    "        idx.append(tf.reshape(tf.range(count, count+n, dtype=tf.int32), shape))\n",
    "        part.extend([i]*n)\n",
    "        count += n\n",
    "\n",
    "    part = tf.constant(part)\n",
    "\n",
    "    @tf.function\n",
    "    def assign_new_model_parameters(params_1d):\n",
    "        \"\"\"A function updating the model's parameters with a 1D tf.Tensor.\n",
    "        Args:\n",
    "            params_1d [in]: a 1D tf.Tensor representing the model's trainable parameters.\n",
    "        \"\"\"\n",
    "\n",
    "        params = tf.dynamic_partition(params_1d, part, n_tensors)\n",
    "        for i, (shape, param) in enumerate(zip(shapes, params)):\n",
    "            model.trainable_variables[i].assign(tf.reshape(param, shape))\n",
    "\n",
    "    # now create a function that will be returned by this factory\n",
    "    @tf.function\n",
    "    def f(params_1d):\n",
    "        \"\"\"A function that can be used by tfp.optimizer.lbfgs_minimize.\n",
    "        This function is created by function_factory.\n",
    "        Args:\n",
    "           params_1d [in]: a 1D tf.Tensor.\n",
    "        Returns:\n",
    "            A scalar loss and the gradients w.r.t. the `params_1d`.\n",
    "        \"\"\"\n",
    "\n",
    "        # use GradientTape so that we can calculate the gradient of loss w.r.t. parameters\n",
    "        with tf.GradientTape() as tape:\n",
    "            # update the parameters in the model\n",
    "            assign_new_model_parameters(params_1d)\n",
    "            # calculate the loss\n",
    "            loss_Total = loss(X_u_train,u_train,X_f_train)\n",
    "\n",
    "        # calculate gradients and convert to 1D tf.Tensor\n",
    "        grads = tape.gradient(loss_Total, model.trainable_variables)\n",
    "        grads = tf.dynamic_stitch(idx, grads)\n",
    "\n",
    "        # print out iteration & loss\n",
    "        f.iter.assign_add(1)\n",
    "        if (f.iter % 50 == 0) :\n",
    "          tf.print(\"Iter:\", f.iter, \"loss:\", loss_Total)\n",
    "\n",
    "        # store loss value so we can retrieve later\n",
    "        tf.py_function(f.history.append, inp=[loss_Total], Tout=[])\n",
    "\n",
    "        return loss_Total, grads\n",
    "\n",
    "    # store these information as members so we can use them outside the scope\n",
    "    f.iter = tf.Variable(0)\n",
    "    f.idx = idx\n",
    "    f.part = part\n",
    "    f.shapes = shapes\n",
    "    f.assign_new_model_parameters = assign_new_model_parameters\n",
    "    f.history = []\n",
    "\n",
    "    return f"
   ]
  },
  {
   "cell_type": "markdown",
   "id": "IU2edVj4uOW7",
   "metadata": {
    "id": "IU2edVj4uOW7"
   },
   "source": [
    "## Training and Testing"
   ]
  },
  {
   "cell_type": "code",
   "execution_count": 9,
   "id": "8jl7R_x6uFKt",
   "metadata": {
    "colab": {
     "base_uri": "https://localhost:8080/"
    },
    "id": "8jl7R_x6uFKt",
    "outputId": "91fd9137-f0bd-44b8-9e35-86050296564c"
   },
   "outputs": [
    {
     "name": "stdout",
     "output_type": "stream",
     "text": [
      "Model: \"PINN\"\n",
      "_________________________________________________________________\n",
      " Layer (type)                Output Shape              Param #   \n",
      "=================================================================\n",
      " dense (Dense)               (None, 20)                60        \n",
      "                                                                 \n",
      " dense_1 (Dense)             (None, 20)                420       \n",
      "                                                                 \n",
      " dense_2 (Dense)             (None, 20)                420       \n",
      "                                                                 \n",
      " dense_3 (Dense)             (None, 20)                420       \n",
      "                                                                 \n",
      " dense_4 (Dense)             (None, 20)                420       \n",
      "                                                                 \n",
      " dense_5 (Dense)             (None, 20)                420       \n",
      "                                                                 \n",
      " dense_6 (Dense)             (None, 20)                420       \n",
      "                                                                 \n",
      " dense_7 (Dense)             (None, 20)                420       \n",
      "                                                                 \n",
      " outputs (Dense)             (None, 1)                 21        \n",
      "                                                                 \n",
      "=================================================================\n",
      "Total params: 3,021\n",
      "Trainable params: 3,021\n",
      "Non-trainable params: 0\n",
      "_________________________________________________________________\n"
     ]
    }
   ],
   "source": [
    "N_u = 100 #Total number of data points for 'u'\n",
    "N_f = 1000 #Total number of collocation points \n",
    "\n",
    "# Training data\n",
    "X_f_train, X_u_train, u_train = trainingdata(N_u,N_f)\n",
    "\n",
    "\n",
    "layerss = [2,20,20,20,20,20,20,20,20,1] #8 hidden layer\n",
    "\n",
    "\n",
    "m1= createModel(layerss,MyPinn)\n",
    "m1.compile(keras.optimizers.Adam())\n",
    "m1.summary()"
   ]
  },
  {
   "cell_type": "code",
   "execution_count": null,
   "id": "tPPzineksHQN",
   "metadata": {
    "id": "tPPzineksHQN"
   },
   "outputs": [],
   "source": [
    "g = tf.Variable(X_f_train,dtype=tf.float64)\n",
    "\n",
    "x = g[:,0:1]\n",
    "t = g[:,1:2]\n",
    "g = tf.stack([x[:,0], t[:,0]], axis=1)\n",
    "\n",
    "\n",
    "xx = g[:,0]\n",
    "tt = g[:,1]\n",
    "gg = tf.stack([xx,tt],axis=-1)\n",
    "\n",
    "print(gg==g)"
   ]
  },
  {
   "cell_type": "code",
   "execution_count": 10,
   "id": "571429ef",
   "metadata": {
    "colab": {
     "base_uri": "https://localhost:8080/"
    },
    "id": "571429ef",
    "outputId": "3d7be1c1-ca4c-4181-e849-77dba1344a20"
   },
   "outputs": [
    {
     "name": "stdout",
     "output_type": "stream",
     "text": [
      "WARNING:tensorflow:Calling GradientTape.gradient on a persistent tape inside its context is significantly less efficient than calling it outside the context (it causes the gradient ops to be recorded on the tape, leading to increased CPU and memory usage). Only call GradientTape.gradient inside the context if you actually want to trace the gradient in order to compute higher order derivatives.\n",
      "Training loss (for per 10 epoches) at epoch  50 : 0.18890239727047953\n",
      "Training loss (for per 10 epoches) at epoch  100 : 0.14220972594289302\n",
      "Training loss (for per 10 epoches) at epoch  150 : 0.11135544468040587\n",
      "Training loss (for per 10 epoches) at epoch  200 : 0.091774675034514447\n"
     ]
    }
   ],
   "source": [
    "m1.train_model(X_u_train,u_train,X_f_train,epochs=200) ## Adam优化阶段"
   ]
  },
  {
   "cell_type": "code",
   "execution_count": 11,
   "id": "JduuINUxwTNo",
   "metadata": {
    "colab": {
     "base_uri": "https://localhost:8080/"
    },
    "id": "JduuINUxwTNo",
    "outputId": "d8d68e40-3faf-4c5f-c3e4-8a7ed6136fd9"
   },
   "outputs": [
    {
     "name": "stdout",
     "output_type": "stream",
     "text": [
      "Iter: 50 loss: 0.086896559047310071\n",
      "Iter: 100 loss: 0.078571429370618756\n",
      "Iter: 150 loss: 0.0664171194839861\n",
      "Iter: 200 loss: 0.055029627523589343\n",
      "Iter: 250 loss: 0.063562270622008171\n"
     ]
    }
   ],
   "source": [
    "\n",
    "func = function_factory(m1, m1.loss_Total, X_u_train,u_train,X_f_train)\n",
    "init_params = tf.dynamic_stitch(func.idx, m1.trainable_variables)\n",
    "\n",
    "## L-BFGS 优化阶段\n",
    "results = tfp.optimizer.lbfgs_minimize(\n",
    "    value_and_gradients_function=func,\n",
    "    initial_position=init_params, \n",
    "    num_correction_pairs=100, \n",
    "    x_tolerance = 0,\n",
    "    f_relative_tolerance = 0,\n",
    "    parallel_iterations = 1,\n",
    "    max_line_search_iterations = 100,\n",
    "    max_iterations=100) "
   ]
  },
  {
   "cell_type": "code",
   "execution_count": 13,
   "id": "eMupnZ17zWRi",
   "metadata": {
    "colab": {
     "base_uri": "https://localhost:8080/",
     "height": 335
    },
    "id": "eMupnZ17zWRi",
    "outputId": "a1d0fdca-a723-43be-ad4e-fa79fa51ad77"
   },
   "outputs": [
    {
     "name": "stdout",
     "output_type": "stream",
     "text": [
      "Test Error: 0.48325\n"
     ]
    },
    {
     "data": {
      "image/png": "[encoded data removed]",
      "text/plain": [
       "<Figure size 432x288 with 5 Axes>"
      ]
     },
     "metadata": {
      "needs_background": "light"
     },
     "output_type": "display_data"
    }
   ],
   "source": [
    "u_pred = m1(X_u_test)\n",
    "\n",
    "error_vec = np.linalg.norm((u-u_pred),2)/np.linalg.norm(u,2)        # Relative L2 Norm of the error (Vector)\n",
    "print('Test Error: %.5f'  % (error_vec))\n",
    "\n",
    "u_pred = np.reshape(u_pred,(256,100),order='F')                        # Fortran Style ,stacked column wise!\n",
    "\n",
    "''' Solution Plot '''\n",
    "solutionplot(u_pred,X_u_train,u_train)"
   ]
  }
 ],
 "metadata": {
  "accelerator": "GPU",
  "colab": {
   "collapsed_sections": [
    "ujmvUqlrtrtK",
    "RIr2UC39r_eJ",
    "GWE5LTvgsz_c",
    "flY0BZGes9He",
    "k52AslOQ0sw7"
   ],
   "name": "7.4_myPINN.ipynb",
   "provenance": []
  },
  "gpuClass": "standard",
  "jupytext": {
   "cell_metadata_filter": "-all",
   "notebook_metadata_filter": "-all"
  },
  "kernelspec": {
   "display_name": "Python 3",
   "language": "python",
   "name": "python3"
  },
  "language_info": {
   "codemirror_mode": {
    "name": "ipython",
    "version": 3
   },
   "file_extension": ".py",
   "mimetype": "text/x-python",
   "name": "python",
   "nbconvert_exporter": "python",
   "pygments_lexer": "ipython3",
   "version": "3.8.8"
  }
 },
 "nbformat": 4,
 "nbformat_minor": 5
}
