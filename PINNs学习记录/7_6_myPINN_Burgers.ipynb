{
  "cells": [
    {
      "cell_type": "markdown",
      "id": "de5806Iyrygs",
      "metadata": {
        "id": "de5806Iyrygs"
      },
      "source": [
        "# 7-8 记录"
      ]
    },
    {
      "cell_type": "markdown",
      "id": "ujmvUqlrtrtK",
      "metadata": {
        "id": "ujmvUqlrtrtK"
      },
      "source": [
        "## Import"
      ]
    },
    {
      "cell_type": "code",
      "execution_count": 1,
      "id": "n1V67_1kWJK-",
      "metadata": {
        "colab": {
          "base_uri": "https://localhost:8080/"
        },
        "id": "n1V67_1kWJK-",
        "outputId": "ff849a80-aeee-4603-ca14-ce5ad0a4868d"
      },
      "outputs": [
        {
          "output_type": "stream",
          "name": "stdout",
          "text": [
            "Looking in indexes: https://pypi.org/simple, https://us-python.pkg.dev/colab-wheels/public/simple/\n",
            "Collecting pyDOE\n",
            "  Downloading pyDOE-0.3.8.zip (22 kB)\n",
            "Requirement already satisfied: numpy in /usr/local/lib/python3.7/dist-packages (from pyDOE) (1.21.6)\n",
            "Requirement already satisfied: scipy in /usr/local/lib/python3.7/dist-packages (from pyDOE) (1.4.1)\n",
            "Building wheels for collected packages: pyDOE\n",
            "  Building wheel for pyDOE (setup.py) ... \u001b[?25l\u001b[?25hdone\n",
            "  Created wheel for pyDOE: filename=pyDOE-0.3.8-py3-none-any.whl size=18184 sha256=ed07616808142bd32364226615c4a4731e116f5ea504c5eaaaf46e1aca604eae\n",
            "  Stored in directory: /root/.cache/pip/wheels/83/ce/8a/87b25c685bfeca1872d13b8dc101e087a9c6e3fb5ebb47022a\n",
            "Successfully built pyDOE\n",
            "Installing collected packages: pyDOE\n",
            "Successfully installed pyDOE-0.3.8\n"
          ]
        }
      ],
      "source": [
        "pip install pyDOE"
      ]
    },
    {
      "cell_type": "code",
      "execution_count": 2,
      "id": "PRleQlMxsPkv",
      "metadata": {
        "colab": {
          "base_uri": "https://localhost:8080/"
        },
        "id": "PRleQlMxsPkv",
        "outputId": "548d66b8-64f7-433b-bb87-d89d98f63735"
      },
      "outputs": [
        {
          "output_type": "stream",
          "name": "stdout",
          "text": [
            "TensorFlow version: 2.8.2\n"
          ]
        }
      ],
      "source": [
        "import tensorflow as tf\n",
        "from tensorflow import keras\n",
        "from tensorflow.keras import layers\n",
        "import tensorflow_probability as tfp\n",
        "import datetime, os\n",
        "#hide tf logs \n",
        "os.environ['TF_CPP_MIN_LOG_LEVEL'] = '2'  # or any {'0', '1', '2'} \n",
        "#0 (default) shows all, 1 to filter out INFO logs, 2 to additionally filter out WARNING logs, and 3 to additionally filter out ERROR logs\n",
        "import scipy.io\n",
        "import numpy as np\n",
        "import matplotlib.pyplot as plt\n",
        "import matplotlib.gridspec as gridspec\n",
        "from mpl_toolkits.axes_grid1 import make_axes_locatable\n",
        "from mpl_toolkits.mplot3d import Axes3D\n",
        "import time\n",
        "from pyDOE import lhs         #Latin Hypercube Sampling\n",
        "import seaborn as sns \n",
        "import codecs, json\n",
        "\n",
        "# generates same random numbers each time\n",
        "np.random.seed(1234)\n",
        "tf.random.set_seed(1234)\n",
        "\n",
        "print(\"TensorFlow version: {}\".format(tf.__version__))"
      ]
    },
    {
      "cell_type": "markdown",
      "id": "RIr2UC39r_eJ",
      "metadata": {
        "id": "RIr2UC39r_eJ"
      },
      "source": [
        "## Data Prep"
      ]
    },
    {
      "cell_type": "code",
      "execution_count": 3,
      "id": "yleHhp5pr8Hx",
      "metadata": {
        "id": "yleHhp5pr8Hx"
      },
      "outputs": [],
      "source": [
        "data = scipy.io.loadmat('Data/burgers_shock_mu_01_pi.mat')  \t# Load data from file\n",
        "x = data['x']                                   # 256 points between -1 and 1 [256x1]\n",
        "t = data['t']                                   # 100 time points between 0 and 1 [100x1] \n",
        "usol = data['usol']                             # solution of 256x100 grid points\n",
        "\n",
        "X, T = np.meshgrid(x,t)                         # makes 2 arrays X and T such that u(X[i],T[j])=usol[i][j] are a tuple"
      ]
    },
    {
      "cell_type": "markdown",
      "id": "GWE5LTvgsz_c",
      "metadata": {
        "id": "GWE5LTvgsz_c"
      },
      "source": [
        "## *Test Data*\n",
        "\n",
        "We prepare the test data to compare against the solution produced by the PINN."
      ]
    },
    {
      "cell_type": "code",
      "execution_count": 4,
      "id": "imd-bmrbsuFA",
      "metadata": {
        "id": "imd-bmrbsuFA"
      },
      "outputs": [],
      "source": [
        "''' X_u_test = [X[i],T[i]] [25600,2] for interpolation'''\n",
        "X_u_test = np.hstack((X.flatten()[:,None], T.flatten()[:,None]))\n",
        "\n",
        "# Domain bounds\n",
        "lb = X_u_test[0]  # [-1. 0.]\n",
        "ub = X_u_test[-1] # [1.  0.99]\n",
        "\n",
        "'''\n",
        "   Fortran Style ('F') flatten,stacked column wise!\n",
        "   u = [c1 \n",
        "        c2\n",
        "        .\n",
        "        .\n",
        "        cn]\n",
        "\n",
        "   u =  [25600x1] \n",
        "'''\n",
        "u = usol.flatten('F')[:,None] \n"
      ]
    },
    {
      "cell_type": "markdown",
      "id": "flY0BZGes9He",
      "metadata": {
        "id": "flY0BZGes9He"
      },
      "source": [
        "## *Training Data*\n",
        "\n",
        "The boundary conditions serve as the test data for the PINN and the collocation points are generated using **Latin Hypercube Sampling**"
      ]
    },
    {
      "cell_type": "code",
      "execution_count": 5,
      "id": "hPe9lqzAtBHf",
      "metadata": {
        "id": "hPe9lqzAtBHf"
      },
      "outputs": [],
      "source": [
        "def trainingdata(N_u,N_f):\n",
        "\n",
        "    '''Boundary Conditions'''\n",
        "\n",
        "    #Initial Condition -1 =< x =<1 and t = 0  \n",
        "    leftedge_x = np.hstack((X[0,:][:,None], T[0,:][:,None])) #L1\n",
        "    leftedge_u = usol[:,0][:,None]\n",
        "\n",
        "    #Boundary Condition x = -1 and 0 =< t =<1\n",
        "    bottomedge_x = np.hstack((X[:,0][:,None], T[:,0][:,None])) #L2\n",
        "    bottomedge_u = usol[-1,:][:,None]\n",
        "\n",
        "    #Boundary Condition x = 1 and 0 =< t =<1\n",
        "    topedge_x = np.hstack((X[:,-1][:,None], T[:,0][:,None])) #L3\n",
        "    topedge_u = usol[0,:][:,None]\n",
        "\n",
        "    all_X_u_train = np.vstack([leftedge_x, bottomedge_x, topedge_x]) # X_u_train [456,2] (456 = 256(L1)+100(L2)+100(L3))\n",
        "    all_u_train = np.vstack([leftedge_u, bottomedge_u, topedge_u])   #corresponding u [456x1]\n",
        "\n",
        "    #choose random N_u points for training\n",
        "    idx = np.random.choice(all_X_u_train.shape[0], N_u, replace=False) \n",
        "\n",
        "    X_u_train = all_X_u_train[idx, :] #choose indices from  set 'idx' (x,t)\n",
        "    u_train = all_u_train[idx,:]      #choose corresponding u\n",
        "\n",
        "    '''Collocation Points'''\n",
        "\n",
        "    # Latin Hypercube sampling for collocation points \n",
        "    # N_f sets of tuples(x,t)\n",
        "    X_f_train = lb + (ub-lb)*lhs(2,N_f) \n",
        "    X_f_train = np.vstack((X_f_train, X_u_train)) # append training points to collocation points \n",
        "\n",
        "    return X_f_train, X_u_train, u_train \n"
      ]
    },
    {
      "cell_type": "markdown",
      "id": "k52AslOQ0sw7",
      "metadata": {
        "id": "k52AslOQ0sw7"
      },
      "source": [
        "## Plot"
      ]
    },
    {
      "cell_type": "code",
      "execution_count": 6,
      "id": "fc9FwQc60w2_",
      "metadata": {
        "id": "fc9FwQc60w2_"
      },
      "outputs": [],
      "source": [
        "def solutionplot(u_pred,X_u_train,u_train):\n",
        "    \n",
        "    fig, ax = plt.subplots()\n",
        "    ax.axis('off')\n",
        "\n",
        "    gs0 = gridspec.GridSpec(1, 2)\n",
        "    gs0.update(top=1-0.06, bottom=1-1/3, left=0.15, right=0.85, wspace=0)\n",
        "    ax = plt.subplot(gs0[:, :])\n",
        "\n",
        "    h = ax.imshow(u_pred, interpolation='nearest', cmap='rainbow', \n",
        "                extent=[T.min(), T.max(), X.min(), X.max()], \n",
        "                origin='lower', aspect='auto')\n",
        "    divider = make_axes_locatable(ax)\n",
        "    cax = divider.append_axes(\"right\", size=\"5%\", pad=0.05)\n",
        "    fig.colorbar(h, cax=cax)\n",
        "    \n",
        "    ax.plot(X_u_train[:,1], X_u_train[:,0], 'kx', label = 'Data (%d points)' % (u_train.shape[0]), markersize = 4, clip_on = False)\n",
        "\n",
        "    line = np.linspace(x.min(), x.max(), 2)[:,None]\n",
        "    ax.plot(t[25]*np.ones((2,1)), line, 'w-', linewidth = 1)\n",
        "    ax.plot(t[50]*np.ones((2,1)), line, 'w-', linewidth = 1)\n",
        "    ax.plot(t[75]*np.ones((2,1)), line, 'w-', linewidth = 1)    \n",
        "\n",
        "    ax.set_xlabel('$t$')\n",
        "    ax.set_ylabel('$x$')\n",
        "    ax.legend(frameon=False, loc = 'best')\n",
        "    ax.set_title('$u(x,t)$', fontsize = 10)\n",
        "    \n",
        "    ''' \n",
        "    Slices of the solution at points t = 0.25, t = 0.50 and t = 0.75\n",
        "    '''\n",
        "    \n",
        "    ####### Row 1: u(t,x) slices ##################\n",
        "    gs1 = gridspec.GridSpec(1, 3)\n",
        "    gs1.update(top=1-1/3, bottom=0, left=0.1, right=0.9, wspace=0.5)\n",
        "\n",
        "    ax = plt.subplot(gs1[0, 0])\n",
        "    ax.plot(x,usol.T[25,:], 'b-', linewidth = 2, label = 'Exact')       \n",
        "    ax.plot(x,u_pred.T[25,:], 'r--', linewidth = 2, label = 'Prediction')\n",
        "    ax.set_xlabel('$x$')\n",
        "    ax.set_ylabel('$u(x,t)$')    \n",
        "    ax.set_title('$t = 0.25s$', fontsize = 10)\n",
        "    ax.axis('square')\n",
        "    ax.set_xlim([-1.1,1.1])\n",
        "    ax.set_ylim([-1.1,1.1])\n",
        "\n",
        "    ax = plt.subplot(gs1[0, 1])\n",
        "    ax.plot(x,usol.T[50,:], 'b-', linewidth = 2, label = 'Exact')       \n",
        "    ax.plot(x,u_pred.T[50,:], 'r--', linewidth = 2, label = 'Prediction')\n",
        "    ax.set_xlabel('$x$')\n",
        "    ax.set_ylabel('$u(x,t)$')\n",
        "    ax.axis('square')\n",
        "    ax.set_xlim([-1.1,1.1])\n",
        "    ax.set_ylim([-1.1,1.1])\n",
        "    ax.set_title('$t = 0.50s$', fontsize = 10)\n",
        "    ax.legend(loc='upper center', bbox_to_anchor=(0.5, -0.35), ncol=5, frameon=False)\n",
        "\n",
        "    ax = plt.subplot(gs1[0, 2])\n",
        "    ax.plot(x,usol.T[75,:], 'b-', linewidth = 2, label = 'Exact')       \n",
        "    ax.plot(x,u_pred.T[75,:], 'r--', linewidth = 2, label = 'Prediction')\n",
        "    ax.set_xlabel('$x$')\n",
        "    ax.set_ylabel('$u(x,t)$')\n",
        "    ax.axis('square')\n",
        "    ax.set_xlim([-1.1,1.1])\n",
        "    ax.set_ylim([-1.1,1.1])    \n",
        "    ax.set_title('$t = 0.75s$', fontsize = 10)\n",
        "    \n",
        "    #plt.savefig('./Results/Burgers.png',dpi = 500)   "
      ]
    },
    {
      "cell_type": "markdown",
      "id": "tm6iCb7CtHzW",
      "metadata": {
        "id": "tm6iCb7CtHzW"
      },
      "source": [
        "## MyPinn"
      ]
    },
    {
      "cell_type": "markdown",
      "id": "1dXBgAa-Y6pi",
      "metadata": {
        "id": "1dXBgAa-Y6pi"
      },
      "source": [
        "### Model Define"
      ]
    },
    {
      "cell_type": "code",
      "execution_count": 7,
      "id": "KPYQTH6MtJ6D",
      "metadata": {
        "id": "KPYQTH6MtJ6D"
      },
      "outputs": [],
      "source": [
        "def createModel(layer,Model):\n",
        "    if len(layer) < 2:\n",
        "        print(\"层数小于2！, 无法构建神经网络\")\n",
        "        return \n",
        "    model = Model(name = \"PINN\")\n",
        "    model.add(keras.Input(shape=(layer[0],),dtype=tf.float64))\n",
        "    for i in range(1,len(layer)-1):\n",
        "        model.add(layers.Dense(layer[i],dtype=tf.float64, activation='tanh'))\n",
        "    model.add(layers.Dense(layer[-1], dtype=tf.float64, name=\"outputs\"))    \n",
        "    return model"
      ]
    },
    {
      "cell_type": "code",
      "execution_count": 8,
      "id": "9BUcvFcIuAsv",
      "metadata": {
        "id": "9BUcvFcIuAsv"
      },
      "outputs": [],
      "source": [
        "class MyPinn(keras.Sequential): ## 正在编写\n",
        "    def __init__(self,name = None):\n",
        "        \n",
        "      super(MyPinn, self).__init__(name=name)\n",
        "      self.nu = tf.constant(0.01/np.pi,dtype=tf.float64)\n",
        "    \n",
        "    @tf.function\n",
        "    def loss_U(self,X_u_train,u_train):\n",
        "      u_pred = self(X_u_train)\n",
        "      loss_u = tf.reduce_mean(tf.square(u_train - u_pred))\n",
        "      return loss_u\n",
        "    \n",
        "    \n",
        "    @tf.function\n",
        "    def loss_PDE(self,X_f_train):\n",
        "      \n",
        "      x = X_f_train[:,0:1]\n",
        "      t = X_f_train[:,1:2]\n",
        "      with tf.GradientTape(persistent=True) as tape:\n",
        "          tape.watch([x,t])\n",
        "          X = tf.stack([x[:,0],t[:,0]],axis=1)\n",
        "          u = self(X)  \n",
        "          u_x = tape.gradient(u,x)         \n",
        "      #tf.print(u_x)    \n",
        "      u_t = tape.gradient(u, t)     \n",
        "      u_xx = tape.gradient(u_x, x)\n",
        "      \n",
        "      del tape\n",
        "      \n",
        "      f = u_t + (self(X))*(u_x) - (self.nu)*u_xx\n",
        "\n",
        "      loss_f = tf.reduce_mean(tf.square(f))\n",
        "\n",
        "      return loss_f\n",
        "    \n",
        "    @tf.function\n",
        "    def loss_Total(self,X_u_train,u_train,X_f_train):\n",
        "      loss_u = self.loss_U(X_u_train,u_train)\n",
        "      loss_f = self.loss_PDE(X_f_train)\n",
        "      \n",
        "      loss_total = loss_u + loss_f\n",
        "      \n",
        "      return loss_total\n",
        "    \n",
        "    @tf.function\n",
        "    def train_step(self,X_u_train,u_train,X_f_train):\n",
        "      with tf.GradientTape(persistent=True) as tape:\n",
        "          loss_total = self.loss_Total(X_u_train,u_train,X_f_train)\n",
        "                  \n",
        "      trainable_vars = self.trainable_variables\n",
        "      gradients = tape.gradient(loss_total, trainable_vars)\n",
        "      #tf.print(gradients)\n",
        "      del tape\n",
        "      \n",
        "      self.optimizer.apply_gradients(zip(gradients, trainable_vars))\n",
        "      return loss_total\n",
        "    \n",
        "    @tf.function\n",
        "    def train_model(self, X_u_train,u_train,X_f_train, epochs=100):\n",
        "      for epoch in tf.range(1,epochs+1):\n",
        "          loss_total = self.train_step(X_u_train,u_train,X_f_train)\n",
        "          if epoch % 50 == 0:                \n",
        "              tf.print(\n",
        "                  \"Training loss (for per 10 epoches) at epoch \",epoch,\":\",loss_total\n",
        "              )\n",
        "                \n",
        "\n",
        "    def train_model_by_batch(self,ds,epochs=100):\n",
        "        for epoch in tf.range(1,epochs+1):\n",
        "            for (x_u,u),x_f in ds:\n",
        "                loss_total = self.train_step(x_u,u,x_f)\n",
        "            if epoch % 50 == 0:                \n",
        "                tf.print(\n",
        "                  \"Training loss (for per 10 epoches) at epoch \",epoch,\":\",loss_total\n",
        "                )\n",
        "                "
      ]
    },
    {
      "cell_type": "markdown",
      "id": "4MPLDurcYsBn",
      "metadata": {
        "id": "4MPLDurcYsBn"
      },
      "source": [
        "### function_factory"
      ]
    },
    {
      "cell_type": "code",
      "execution_count": 9,
      "id": "Efis1vL5yH53",
      "metadata": {
        "id": "Efis1vL5yH53"
      },
      "outputs": [],
      "source": [
        "def function_factory(model, loss, X_u_train,u_train,X_f_train):\n",
        "    \"\"\"A factory to create a function required by tfp.optimizer.lbfgs_minimize.\n",
        "    Args:\n",
        "        model [in]: an instance of `tf.keras.Model` or its subclasses.\n",
        "        loss [in]: a loss function in model\n",
        "    Returns:\n",
        "        A function that has a signature of:\n",
        "            loss_value, gradients = f(model_parameters).\n",
        "    \"\"\"\n",
        "\n",
        "    # obtain the shapes of all trainable parameters in the model\n",
        "    shapes = tf.shape_n(model.trainable_variables)\n",
        "    n_tensors = len(shapes)\n",
        "\n",
        "    # we'll use tf.dynamic_stitch and tf.dynamic_partition later, so we need to\n",
        "    # prepare required information first\n",
        "    count = 0\n",
        "    idx = [] # stitch indices\n",
        "    part = [] # partition indices\n",
        "\n",
        "    for i, shape in enumerate(shapes):\n",
        "        n = np.product(shape)\n",
        "        idx.append(tf.reshape(tf.range(count, count+n, dtype=tf.int32), shape))\n",
        "        part.extend([i]*n)\n",
        "        count += n\n",
        "\n",
        "    part = tf.constant(part)\n",
        "\n",
        "    @tf.function\n",
        "    def assign_new_model_parameters(params_1d):\n",
        "        \"\"\"A function updating the model's parameters with a 1D tf.Tensor.\n",
        "        Args:\n",
        "            params_1d [in]: a 1D tf.Tensor representing the model's trainable parameters.\n",
        "        \"\"\"\n",
        "\n",
        "        params = tf.dynamic_partition(params_1d, part, n_tensors)\n",
        "        for i, (shape, param) in enumerate(zip(shapes, params)):\n",
        "            model.trainable_variables[i].assign(tf.reshape(param, shape))\n",
        "\n",
        "    # now create a function that will be returned by this factory\n",
        "    @tf.function\n",
        "    def f(params_1d):\n",
        "        \"\"\"A function that can be used by tfp.optimizer.lbfgs_minimize.\n",
        "        This function is created by function_factory.\n",
        "        Args:\n",
        "           params_1d [in]: a 1D tf.Tensor.\n",
        "        Returns:\n",
        "            A scalar loss and the gradients w.r.t. the `params_1d`.\n",
        "        \"\"\"\n",
        "\n",
        "        # use GradientTape so that we can calculate the gradient of loss w.r.t. parameters\n",
        "        with tf.GradientTape() as tape:\n",
        "            # update the parameters in the model\n",
        "            assign_new_model_parameters(params_1d)\n",
        "            # calculate the loss\n",
        "            loss_Total = loss(X_u_train,u_train,X_f_train)\n",
        "\n",
        "        # calculate gradients and convert to 1D tf.Tensor\n",
        "        grads = tape.gradient(loss_Total, model.trainable_variables)\n",
        "        grads = tf.dynamic_stitch(idx, grads)\n",
        "\n",
        "        # print out iteration & loss\n",
        "        f.iter.assign_add(1)\n",
        "        if (f.iter % 50 == 0) :\n",
        "          tf.print(\"Iter:\", f.iter, \"loss:\", loss_Total)\n",
        "\n",
        "        # store loss value so we can retrieve later\n",
        "        tf.py_function(f.history.append, inp=[loss_Total], Tout=[])\n",
        "\n",
        "        return loss_Total, grads\n",
        "\n",
        "    # store these information as members so we can use them outside the scope\n",
        "    f.iter = tf.Variable(0)\n",
        "    f.idx = idx\n",
        "    f.part = part\n",
        "    f.shapes = shapes\n",
        "    f.assign_new_model_parameters = assign_new_model_parameters\n",
        "    f.history = []\n",
        "\n",
        "    return f"
      ]
    },
    {
      "cell_type": "markdown",
      "id": "IU2edVj4uOW7",
      "metadata": {
        "id": "IU2edVj4uOW7"
      },
      "source": [
        "## Training and Testing"
      ]
    },
    {
      "cell_type": "code",
      "execution_count": 10,
      "id": "865fd4c0",
      "metadata": {
        "id": "865fd4c0"
      },
      "outputs": [],
      "source": [
        "def ds_train__n_batch( X_u_train,u_train,X_f_train,n = 5):\n",
        "    batch_u = int(len(X_u_train)/n) # = int(len(u_train)/n)\n",
        "    batch_f = int(len(X_f_train)/n)\n",
        "    ds_u = tf.data.Dataset.from_tensor_slices( ((X_u_train,u_train)) ).batch( batch_u )\n",
        "    ds_f = tf.data.Dataset.from_tensor_slices( X_f_train ).batch( batch_f )\n",
        "\n",
        "    ds = tf.data.Dataset.zip((ds_u,ds_f))\n",
        "    return ds"
      ]
    },
    {
      "cell_type": "code",
      "execution_count": 26,
      "id": "8jl7R_x6uFKt",
      "metadata": {
        "colab": {
          "base_uri": "https://localhost:8080/"
        },
        "id": "8jl7R_x6uFKt",
        "outputId": "90b2d51b-3247-406a-e22f-4034517808fe"
      },
      "outputs": [
        {
          "output_type": "stream",
          "name": "stdout",
          "text": [
            "tf.Tensor(\n",
            "[[ True]\n",
            " [ True]\n",
            " [ True]\n",
            " ...\n",
            " [ True]\n",
            " [ True]\n",
            " [ True]], shape=(25600, 1), dtype=bool)\n"
          ]
        }
      ],
      "source": [
        "N_u = 100 #Total number of data points for 'u'\n",
        "N_f = 1000 #Total number of collocation points \n",
        "\n",
        "# Training data\n",
        "X_f_train, X_u_train, u_train = trainingdata(N_u,N_f)\n",
        "\n",
        "layerss = [2,20,20,20,20,20,20,20,20,1] #8 hidden layer\n",
        "\n",
        "m1= createModel(layerss,MyPinn)\n",
        "m1.compile(keras.optimizers.Adam())\n",
        "m2= createModel(layerss,MyPinn)\n",
        "m2.compile(keras.optimizers.Adam())\n",
        "for i in range(len(m1.trainable_variables)):\n",
        "  m2.trainable_variables[i].assign(m1.trainable_variables[i])\n",
        "\n",
        "# print(m1(X_u_test) == m2(X_u_test)) 验证m1和m2初始参数一致"
      ]
    },
    {
      "cell_type": "code",
      "execution_count": 27,
      "id": "571429ef",
      "metadata": {
        "colab": {
          "base_uri": "https://localhost:8080/"
        },
        "id": "571429ef",
        "outputId": "bed247c2-36b6-441c-ee0c-501f34574317",
        "scrolled": true
      },
      "outputs": [
        {
          "output_type": "stream",
          "name": "stdout",
          "text": [
            "Training, no batch ----------------------\n",
            "Training loss (for per 10 epoches) at epoch  50 : 0.14647933257578416\n",
            "Training loss (for per 10 epoches) at epoch  100 : 0.11102051083402728\n",
            "Training loss (for per 10 epoches) at epoch  150 : 0.094004856908836865\n",
            "Training loss (for per 10 epoches) at epoch  200 : 0.084012378374428154\n",
            "Training, batch n=5 ----------------------\n",
            "Training loss (for per 10 epoches) at epoch  50 : 0.11665469224994399\n",
            "Training loss (for per 10 epoches) at epoch  100 : 0.094359681821746727\n",
            "Training loss (for per 10 epoches) at epoch  150 : 0.082653010932955434\n",
            "Training loss (for per 10 epoches) at epoch  200 : 0.076434626116294591\n"
          ]
        }
      ],
      "source": [
        "print(\"Training, no batch ----------------------\")\n",
        "m1.train_model(X_u_train,u_train,X_f_train,epochs=200) ## Adam优化阶段\n",
        "\n",
        "n = 5\n",
        "ds_train = ds_train__n_batch(X_u_train,u_train,X_f_train,n)\n",
        "print(\"Training, batch n={} ----------------------\".format(n))\n",
        "m2.train_model_by_batch(ds_train,epochs=200)"
      ]
    },
    {
      "cell_type": "code",
      "execution_count": 28,
      "id": "eMupnZ17zWRi",
      "metadata": {
        "colab": {
          "base_uri": "https://localhost:8080/",
          "height": 654
        },
        "id": "eMupnZ17zWRi",
        "outputId": "9995b36f-264e-4a5b-deb9-b27b780257b9"
      },
      "outputs": [
        {
          "output_type": "stream",
          "name": "stdout",
          "text": [
            "Test Error(train by no batch): 0.51127\n",
            "Test Error(train by batch ): 0.46614\n"
          ]
        },
        {
          "output_type": "display_data",
          "data": {
            "text/plain": [
              "<Figure size 432x288 with 5 Axes>"
            ],
            "image/png": "[encoded data removed]"
          },
          "metadata": {
            "needs_background": "light"
          }
        },
        {
          "output_type": "display_data",
          "data": {
            "text/plain": [
              "<Figure size 432x288 with 5 Axes>"
            ],
            "image/png": "[encoded data removed]"
          },
          "metadata": {
            "needs_background": "light"
          }
        }
      ],
      "source": [
        "u1_pred = m1(X_u_test)\n",
        "u2_pred = m2(X_u_test)\n",
        "error_vec1 = np.linalg.norm((u-u1_pred),2)/np.linalg.norm(u,2)        # Relative L2 Norm of the error (Vector)\n",
        "error_vec2 = np.linalg.norm((u-u2_pred),2)/np.linalg.norm(u,2) \n",
        "print('Test Error(train by no batch): %.5f'  % (error_vec1))\n",
        "print('Test Error(train by batch ): %.5f'  % (error_vec2))\n",
        "\n",
        "u_pred1 = np.reshape(u1_pred,(256,100),order='F')                        # Fortran Style ,stacked column wise!\n",
        "u_pred2 = np.reshape(u2_pred,(256,100),order='F')      \n",
        "''' Solution Plot '''\n",
        "solutionplot(u_pred1,X_u_train,u_train)\n",
        "\n",
        "solutionplot(u_pred2,X_u_train,u_train)"
      ]
    }
  ],
  "metadata": {
    "accelerator": "GPU",
    "colab": {
      "collapsed_sections": [
        "ujmvUqlrtrtK",
        "RIr2UC39r_eJ",
        "GWE5LTvgsz_c",
        "flY0BZGes9He",
        "k52AslOQ0sw7"
      ],
      "name": "7_6_myPINN_Burgers.ipynb",
      "provenance": []
    },
    "gpuClass": "standard",
    "jupytext": {
      "cell_metadata_filter": "-all",
      "notebook_metadata_filter": "-all"
    },
    "kernelspec": {
      "display_name": "Python 3",
      "language": "python",
      "name": "python3"
    },
    "language_info": {
      "codemirror_mode": {
        "name": "ipython",
        "version": 3
      },
      "file_extension": ".py",
      "mimetype": "text/x-python",
      "name": "python",
      "nbconvert_exporter": "python",
      "pygments_lexer": "ipython3",
      "version": "3.8.8"
    }
  },
  "nbformat": 4,
  "nbformat_minor": 5
}